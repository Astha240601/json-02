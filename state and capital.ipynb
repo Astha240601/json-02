{
 "cells": [
  {
   "cell_type": "code",
   "execution_count": 6,
   "id": "c7eb9819",
   "metadata": {},
   "outputs": [
    {
     "name": "stdout",
     "output_type": "stream",
     "text": [
      "{\"Bihar\": \"Patna\", \"Goa\": \"Panji\", \"sikkim\": \"Gangtok\", \"west Bengal\": \"Kolkata\", \"Haryana\": \"Chandigarh\", \"Assam\": \"Dispur\", \"Madhya Pradesh\": \"Bhopal\"}\n"
     ]
    }
   ],
   "source": [
    "#Dictionary of 7 Indian states and their captials\n",
    "import json\n",
    "state_capital ={'Bihar':'Patna',\n",
    "                'Goa':'Panji',\n",
    "                'sikkim':'Gangtok',\n",
    "                'west Bengal':'Kolkata',\n",
    "                'Haryana':'Chandigarh',\n",
    "                'Assam':'Dispur',\n",
    "                'Madhya Pradesh':'Bhopal'\n",
    "                    }\n",
    "json_string = json.dumps(state_capital)\n",
    "print(json_string)"
   ]
  },
  {
   "cell_type": "code",
   "execution_count": null,
   "id": "cc0e5be5",
   "metadata": {},
   "outputs": [],
   "source": []
  }
 ],
 "metadata": {
  "kernelspec": {
   "display_name": "Python 3 (ipykernel)",
   "language": "python",
   "name": "python3"
  },
  "language_info": {
   "codemirror_mode": {
    "name": "ipython",
    "version": 3
   },
   "file_extension": ".py",
   "mimetype": "text/x-python",
   "name": "python",
   "nbconvert_exporter": "python",
   "pygments_lexer": "ipython3",
   "version": "3.9.12"
  }
 },
 "nbformat": 4,
 "nbformat_minor": 5
}
